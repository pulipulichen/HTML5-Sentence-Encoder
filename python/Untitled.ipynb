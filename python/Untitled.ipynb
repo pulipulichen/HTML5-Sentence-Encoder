{
 "cells": [
  {
   "cell_type": "code",
   "execution_count": 1,
   "id": "663f4859",
   "metadata": {},
   "outputs": [
    {
     "data": {
      "text/plain": [
       "array([ -0.98214286,  -1.03703704, -73.36970899,  -0.98214286])"
      ]
     },
     "execution_count": 1,
     "metadata": {},
     "output_type": "execute_result"
    }
   ],
   "source": [
    "import numpy as np\n",
    "from sklearn.neighbors import LocalOutlierFactor\n",
    "X = [[-1.1], [0.2], [101.1], [0.3]]\n",
    "clf = LocalOutlierFactor(n_neighbors=2)\n",
    "clf.fit_predict(X)\n",
    "clf.negative_outlier_factor_"
   ]
  },
  {
   "cell_type": "code",
   "execution_count": 6,
   "id": "b86925a6",
   "metadata": {},
   "outputs": [
    {
     "data": {
      "text/plain": [
       "array([-0.97191145, -0.99836963, -1.0752352 , -1.01227661, -1.0595208 ,\n",
       "       -1.04837719, -0.97191145, -1.1204007 ])"
      ]
     },
     "execution_count": 6,
     "metadata": {},
     "output_type": "execute_result"
    }
   ],
   "source": [
    "import numpy as np\n",
    "\n",
    "from pandas_ods_reader import read_ods\n",
    "\n",
    "base_path = \"input2.ods\"\n",
    "sheet_index = 1\n",
    "\n",
    "df = read_ods(base_path, 1, headers=True)\n",
    "df.drop(df.columns[len(df.columns)-1], axis=1, inplace=True)\n",
    "X = np.array(df)\n",
    "\n",
    "from sklearn.neighbors import LocalOutlierFactor\n",
    "clf = LocalOutlierFactor(n_neighbors=2)\n",
    "clf.fit_predict(X)\n",
    "clf.negative_outlier_factor_"
   ]
  }
 ],
 "metadata": {
  "kernelspec": {
   "display_name": "Python 3 (ipykernel)",
   "language": "python",
   "name": "python3"
  },
  "language_info": {
   "codemirror_mode": {
    "name": "ipython",
    "version": 3
   },
   "file_extension": ".py",
   "mimetype": "text/x-python",
   "name": "python",
   "nbconvert_exporter": "python",
   "pygments_lexer": "ipython3",
   "version": "3.8.10"
  }
 },
 "nbformat": 4,
 "nbformat_minor": 5
}
